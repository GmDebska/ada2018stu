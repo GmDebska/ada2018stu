{
 "cells": [
  {
   "cell_type": "markdown",
   "metadata": {},
   "source": [
    "- Some papers or topics are followed by tutorials to facilitate understanding. The tutorials are not valid choices for the critic review report required in Assignment 1.\n",
    "- Based on __personal experience__, some papers are marked with \"+\" symbols, from + to ++++ indicating easy to hard implementation. Theoretical papers or papers outside my expertise lack the ranking. The ranking may be helpful for you to choose a \"technical path\", which you may follow in doing Assignment 2 and 3. But they have NO effect in assessing your Assignment 1.\n",
    "- The mark \"tutorial+\" means influencial systematical summarisation of works in an area. You may want to find works therein."
   ]
  },
  {
   "cell_type": "markdown",
   "metadata": {},
   "source": [
    "**Probabilistic models (PR)**\n",
    "- 1 [Probabilistic PCA](http://www.robots.ox.ac.uk/~cvrg/hilary2006/ppca.pdf)(++)\n",
    "    - 2 [Bayesian PCA](https://papers.nips.cc/paper/1549-bayesian-pca.pdf)(++)\n",
    "- 3 [Linear Discriminant Analysis](http://www.face-rec.org/algorithms/LDA/discriminant-analysis-for-recognition.pdf)\n",
    "- 4 [Latent Dirichlet Process-based Model](http://www.jmlr.org/papers/volume3/blei03a/blei03a.pdf)(+++), 5 [nested](https://cocosci.berkeley.edu/tom/papers/ncrp.pdf)(+++), [tutorial](https://www.cs.cmu.edu/~epxing/Class/10708-15/notes/10708_scribe_lecture18.pdf)"
   ]
  },
  {
   "cell_type": "markdown",
   "metadata": {},
   "source": [
    "**Non-parametric and kernel methods (NP)**\n",
    "- 1 [Good old nearest neighbour](https://www.nowpublishers.com/article/Details/MAL-064)\n",
    "- 2 [Kernel PCA](http://pca.narod.ru/scholkopf_kernel.pdf)(++)\n",
    "    - 3 [KPCA application](https://alex.smola.org/papers/1999/MikSchSmoMuletal99.pdf)"
   ]
  },
  {
   "cell_type": "markdown",
   "metadata": {},
   "source": [
    "**Ensemble(EN)**\n",
    "- 1 [Adaboost](http://web.eecs.utk.edu/~leparker/Courses/CS425-528-fall10/Handouts/AdaBoost.M1.pdf)(++)\n",
    "\t- 2 [Adaboost-Multiclass](https://web.stanford.edu/~hastie/Papers/samme.pdf)\n",
    "\t- 3 [Fast Object Detection](https://www.cs.cmu.edu/~efros/courses/LBMV07/Papers/viola-cvpr-01.pdf)\n",
    "\t- Gradient Boost (4 [paper-1](https://statweb.stanford.edu/~jhf/ftp/stobst.pdf), 5 [paper-2](http://maths.dur.ac.uk/~dma6kp/pdf/face_recognition/Boosting/Mason99AnyboostLong.pdf), 6 [paper-3](http://maths.dur.ac.uk/~dma6kp/pdf/face_recognition/Boosting/Mason99AnyboostLong.pdf), [tutorial-1](https://www.frontiersin.org/articles/10.3389/fnbot.2013.00021/full), [tutorial-2](https://machinelearningmastery.com/gentle-introduction-gradient-boosting-algorithm-machine-learning/))\n",
    "- 7 [Random Forest](https://link.springer.com/article/10.1023/A:1010933404324)(++)\n",
    "- 8 [Comparative Study](http://www.jmlr.org/papers/volume15/delgado14a/delgado14a.pdf)"
   ]
  },
  {
   "cell_type": "markdown",
   "metadata": {},
   "source": [
    "**Generative Models and Data Representation(DR)**\n",
    "- 1 [Generative Adversarial Nets](https://arxiv.org/abs/1406.2661)(+)\n",
    "\t- 2 [Wasserstein GAN](https://arxiv.org/abs/1701.07875)(++)\n",
    "\t- 3 [For Image Data](https://arxiv.org/abs/1511.06434)(++)\n",
    "- 4 [Sparse Encoding](https://www.semanticscholar.org/paper/Learning-Overcomplete-Representations-Lewicki-Sejnowski/0ee7cacbf988c7b3f24b2bc6dd43d9fce1b25bdc)(+++)\n",
    "\t- 5 [Efficient Sparse Encoding Algorithms](https://papers.nips.cc/paper/2979-efficient-sparse-coding-algorithms.pdf)(+++)\n",
    "- 6 [Metric Learning](https://ai.stanford.edu/~ang/papers/nips02-metric.pdf)(++)\n",
    "- 7 [Auto Encoder](http://www.cs.toronto.edu/~larocheh/publications/icml-2008-denoising-autoencoders.pdf)(+)\n",
    "    - 8 [Sparse AutoEncoder](https://web.stanford.edu/class/cs294a/sparseAutoencoder.pdf)(++)\n",
    "    - 9 [Variational AutoEncoder](Auto-encoding variational Bayes)(++) [tutorial](https://arxiv.org/abs/1606.05908)\n",
    "- 10 [Deep Learning and AI](https://www.nowpublishers.com/article/Details/MAL-006)"
   ]
  },
  {
   "cell_type": "markdown",
   "metadata": {},
   "source": [
    "**Training Techniques, Regularisation(TR)**\n",
    "- 1 SVM: [text](http://www.jmlr.org/papers/volume2/tong01a/tong01a.pdf)(++), 2 [face recognition](https://papers.nips.cc/paper/1609-support-vector-machines-applied-to-face-recognition.pdf)(+), 3 [tutorial+](https://link.springer.com/article/10.1023/B:STCO.0000035301.49549.88)\n",
    "- 4 [Early Stopping](https://page.mi.fu-berlin.de/prechelt/Biblio/stop_tricks1997.pdf)\n",
    "- 5 [Dropout](http://jmlr.org/papers/volume15/srivastava14a.old/srivastava14a.pdf)\n",
    "- 6 [Long Short-term Memory](http://www.bioinf.jku.at/publications/older/2604.pdf)\n",
    "\t- 7 [Recurrent sequence translation, GRU](https://arxiv.org/pdf/1409.1259.pdf)\n",
    "    - 8 [Recurrent Unit Comparison](https://arxiv.org/pdf/1412.3555v1.pdf)\n",
    "- 9 [Batch Normalisation](https://arxiv.org/abs/1502.03167)(+, Inception-v2)"
   ]
  },
  {
   "cell_type": "markdown",
   "metadata": {},
   "source": [
    "**Deep Architecture(DP)**\n",
    "- 1 [AlexNet](https://www.nvidia.com/content/tesla/pdf/machine-learning/imagenet-classification-with-deep-convolutional-nn.pdf)\n",
    "- 2 [Very-deep (at its time) VGG](https://arxiv.org/abs/1409.1556)\n",
    "- 3 Inception Net [v1](https://arxiv.org/pdf/1409.4842.pdf), v2(see above), 4 [v3](https://arxiv.org/abs/1512.00567), 5 [v4](https://arxiv.org/pdf/1602.07261.pdf)(with ResNet)\n",
    "- 6 [ResNet](https://arxiv.org/abs/1512.03385)\n",
    "\t- 7 [ResNet connects to boosting](https://arxiv.org/abs/1605.06431), 8 [Using Boosting to Train ResNet](https://arxiv.org/abs/1706.04964)"
   ]
  },
  {
   "cell_type": "markdown",
   "metadata": {},
   "source": [
    "**Reinforcement(RE)**\n",
    "- 1 Regret Bounding: [theory](http://www.rci.rutgers.edu/~mnk/papers/Lai_robbins85.pdf) 2 [algorithm](https://homes.di.unimi.it/~cesabian/Pubblicazioni/ml-02.pdf)(+)\n",
    "- 3 [Temporal Difference](https://pdfs.semanticscholar.org/9c06/865e912788a6a51470724e087853d7269195.pdf), Deep Q-Learning (See below)\n",
    "- 4 [Policy-Gradient](https://papers.nips.cc/paper/1713-policy-gradient-methods-for-reinforcement-learning-with-function-approximation.pdf)(++)\n",
    "- 5 [Monte Carlo Tree Search](https://hal.inria.fr/inria-00116992/document)(++)\n",
    "    - 6 [AlphaGo Zero](https://deepmind.com/documents/119/agz_unformatted_nature.pdf)(++++)\n",
    "    "
   ]
  },
  {
   "cell_type": "markdown",
   "metadata": {},
   "source": [
    "**Dynamic Models(DY)**\n",
    "- 1 [HMM](http://www.robots.ox.ac.uk/~vgg/rg/papers/hmm.pdf)(tutorial+)\n",
    "- 2 [Kalman Filter](https://www.cs.unc.edu/~welch/kalman/media/pdf/Kalman1960.pdf)"
   ]
  },
  {
   "cell_type": "markdown",
   "metadata": {},
   "source": [
    "**Monte Carlo Methods(MC)** (for MCTS, see above)\n",
    "- 1 [RANSAC](https://dl.acm.org/citation.cfm?id=358692)(+, behind pay-wall, use our library to download)\n",
    "- 2 [Inference methods](https://www.csss.washington.edu/Papers/wp9.pdf)(tutorial+)"
   ]
  },
  {
   "cell_type": "markdown",
   "metadata": {},
   "source": [
    "    \n",
    "## Application / Practical Tasks\n",
    "__Cavet__: Papers in this section represent trend as of 2018, but may not be time-tested.\n",
    "\n",
    "- Attack and Defense (A1)\n",
    "    - 1 [Attack Deep NN Image Recognisers by Slightly Noisy Images](https://arxiv.org/pdf/1312.6199.pdf)(+)\n",
    "    - 2 [Single Pixel Attack](https://arxiv.org/pdf/1710.08864.pdf)(++)\n",
    "    - 3 [Mass Destruction Attack](https://arxiv.org/pdf/1802.08195.pdf)(++): attact on non-specific image processing systems, even slightly touched biological ones!\n",
    "    - interesting follow ups 4 [1](https://arxiv.org/pdf/1705.07204.pdf), 5 [2](https://arxiv.org/pdf/1807.03247.pdf)\n",
    "    "
   ]
  },
  {
   "cell_type": "markdown",
   "metadata": {},
   "source": [
    "- Object Detection (A2) (papers in this section are of difficulty +++ if implemented from scratch, but existing implementations are widely available)\n",
    "    - 1 [Regional CNN](https://arxiv.org/pdf/1311.2524.pdf), 2 [fast](https://arxiv.org/abs/1504.08083), 3 [faster](https://arxiv.org/pdf/1506.01497.pdf) [tutorial-1](https://blog.athelas.com/a-brief-history-of-cnns-in-image-segmentation-from-r-cnn-to-mask-r-cnn-34ea83205de4), [tutorial-2](https://towardsdatascience.com/r-cnn-fast-r-cnn-faster-r-cnn-yolo-object-detection-algorithms-36d53571365e)\n",
    "    - 4 [Yolo](https://arxiv.org/pdf/1506.02640v5.pdf)\n",
    "    - 5 [Single Shot Detector](https://arxiv.org/abs/1512.02325)"
   ]
  },
  {
   "cell_type": "markdown",
   "metadata": {},
   "source": [
    "- [Sequence to sequence translation (A3) 1](https://arxiv.org/pdf/1409.3215.pdf)(+)\n",
    "    - 2 [Align and translation together](https://arxiv.org/abs/1409.0473)(+)\n",
    "    - 3 [Attention-based](http://papers.nips.cc/paper/7181-attention-is-all-you-need)"
   ]
  },
  {
   "cell_type": "markdown",
   "metadata": {},
   "source": [
    "- Game Playing and Control (A4)\n",
    "    - 1 [Q-Learning](https://deepmind-data.storage.googleapis.com/assets/papers/DeepMindNature14236Paper.pdf)(++, the pioneer work), 2 [Double-Q](https://www.aaai.org/ocs/index.php/AAAI/AAAI16/paper/download/12389/11847)(++), 3 [Rainbow-Q](https://arxiv.org/pdf/1710.02298)(++), 4 [Q from Demo] (https://arxiv.org/abs/1704.03732)(+++)\n",
    "    - 5 [Deterministic Policy Gradient](http://proceedings.mlr.press/v32/silver14.pdf)(++), 6 [Deep DPG](https://arxiv.org/abs/1509.02971)(++), 7 [A3C](http://proceedings.mlr.press/v48/mniha16.pdf)\n",
    "    "
   ]
  },
  {
   "cell_type": "markdown",
   "metadata": {},
   "source": [
    "- Recommendation systems (A5)\n",
    "    - 1 [Reduction-based](http://files.grouplens.org/papers/webKDD00.pdf)(+)\n",
    "    - 2 [Matrix Factorisation](http://www.cs.rochester.edu/twiki/pub/Main/HarpSeminar/Factorization_Meets_the_Neighborhood-_a_Multifaceted_Collaborative_Filtering_Model.pdf)\n",
    "    "
   ]
  },
  {
   "cell_type": "markdown",
   "metadata": {},
   "source": [
    "- Text Content Analysis and Generation (A6)\n",
    "    - 1 [Sentient Analysis](http://www.cs.columbia.edu/~julia/papers/Agarwaletal11.pdf)(++)\n",
    "    - 2 [Dialogue Bots](https://arxiv.org/abs/1507.04808)\n",
    "    "
   ]
  }
 ],
 "metadata": {
  "kernelspec": {
   "display_name": "Python 3",
   "language": "python",
   "name": "python3"
  },
  "language_info": {
   "codemirror_mode": {
    "name": "ipython",
    "version": 3
   },
   "file_extension": ".py",
   "mimetype": "text/x-python",
   "name": "python",
   "nbconvert_exporter": "python",
   "pygments_lexer": "ipython3",
   "version": "3.5.4"
  }
 },
 "nbformat": 4,
 "nbformat_minor": 2
}
