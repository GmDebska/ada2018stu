{
 "cells": [
  {
   "cell_type": "markdown",
   "metadata": {},
   "source": [
    "# Preparation Mindmap\n",
    "- mindmap of background can be found [here](https://sketchboard.me/xA4SQKJWSZcd#/)\n",
    "- [Youtube Video](https://youtube.com) of welcome message"
   ]
  },
  {
   "cell_type": "markdown",
   "metadata": {},
   "source": [
    "# Jupyter Notebook\n",
    "Let's start with our environment, Python language comes below.\n",
    "\n",
    "This is a cell. A cell is a small pocket of information in your project, mostly, either some code snippet or some note. This is a \"note\" cell, actually, a marked-down cell. You can change the cell type by using the menu \"Cell -> Cell Type.\" (Create a new cell by \"Insert Cell Below\" to try out, don't mess up with this cell.)\n",
    "\n",
    "* You can \"execute\" a cell, \n",
    "    - for a markeddown cell (note), it will prettily display your note using [markeddown format](https://github.com/adam-p/markdown-here/wiki/Markdown-Cheatsheet).\n",
    "    - for a code cell, a Python backend will execute the code and the output will be displayed in the output of the cell. You can clear the output of a particular cell or the entire notebook in the \"Cell\" menu item. \n",
    "\n",
    "* Press \"ESC\" (can be multiple times), then __immediately__ followed by an \"h\" for more help.\n",
    "\n",
    "* Please try to navigate between cells\n",
    "\n",
    "* to insert more cells\n",
    "\n",
    "* to change cell type\n",
    "\n",
    "* to edit a cell after execution.\n",
    "\n"
   ]
  },
  {
   "cell_type": "markdown",
   "metadata": {},
   "source": [
    "#### More playing with note cells (following contents are demo of formatting, meaningless)\n",
    "This is a note cell. Learn something about [python programming](http://google.com). We will use $x$ to represent observable attributes of data, and $y$ for the prediction targets.\n",
    "\n",
    "A _linear_ model combines attributes $x_0, x_1, \\dots$ by weighted sum. So one compares a $y$ with a value calculated as $w_0 \\times x_0 + w_1 \\times x_1 $. Note in Python, indexes start from 0."
   ]
  },
  {
   "cell_type": "markdown",
   "metadata": {},
   "source": [
    "# Python Basics\n",
    "\n",
    "\n",
    "A good [source](https://www.tutorialspoint.com/python/) of tutorials. If you don't know where to start, browse there for the first time. And come back and follow the corresponding tutorial when get stuck at some point.\n",
    "\n",
    "A free online course is [here](https://www.udacity.com/course/introduction-to-python--ud1110) (the difference between Python 3 and 2 is minor for our purpose of data analytics). \n",
    "\n",
    "Don't forget the [official doc](https://docs.python.org/3/tutorial/) We use Python 3 from 2018. "
   ]
  },
  {
   "cell_type": "markdown",
   "metadata": {},
   "source": [
    "# Variables\n",
    "Variables in Python are tags you attach to information stored in memory (various objects). If you have any experience in programming with other languages. The apparent usage is the same. [Here](http://foobarnbaz.com/2012/07/08/understanding-python-variables/) is a good explanation of Python variables."
   ]
  },
  {
   "cell_type": "code",
   "execution_count": null,
   "metadata": {},
   "outputs": [],
   "source": [
    "a = 5\n",
    "print (a, id(a))  # id(.) gives unique identifier for an object -- here is \"the 5\" referred to by a\n",
    "a = 6\n",
    "print (a, id(a))\n",
    "b = 5\n",
    "print (b, id(b))  # Now the \"immutable\" 5 has two tags, a and b, referring to it."
   ]
  },
  {
   "cell_type": "markdown",
   "metadata": {},
   "source": [
    "## List\n",
    "List collects objects and is suitable for collective operations. In data analytics, list is a convenient way of organising data samples -- they are to be accessed / used in a similar way.\n",
    "\n",
    "We also have examples of for-loops and formatted printing in this section."
   ]
  },
  {
   "cell_type": "code",
   "execution_count": null,
   "metadata": {},
   "outputs": [],
   "source": [
    "# List can contain various objects\n",
    "a = [1, 2, 3, 'a', 'b']\n",
    "print (a)\n",
    "# indexed access to the contents like:\n",
    "print (\"a[0]\", a[0])\n",
    "print (\"a[1]\", a[1])\n",
    "print (\"a[2]\", a[2])\n",
    "print (\"a[3]\", a[3])\n",
    "print (\"a[4]\", a[4])"
   ]
  },
  {
   "cell_type": "code",
   "execution_count": null,
   "metadata": {},
   "outputs": [],
   "source": [
    "# list and for-loop are friends\n",
    "for i in range(5): #  range(5) gives you another list of [0 .. 5-1=4]\n",
    "    print (\"a[\", i, \"]\", a[i])"
   ]
  },
  {
   "cell_type": "markdown",
   "metadata": {},
   "source": [
    "Placeholders is useful when you print information. See [reference](https://docs.python.org/2/library/stdtypes.html#str.format)."
   ]
  },
  {
   "cell_type": "code",
   "execution_count": null,
   "metadata": {},
   "outputs": [],
   "source": [
    "# alternatively, the elements in printing can be formatted:\n",
    "for i in range(5):\n",
    "    print (\"a[{:d}]={}\".format(i, a[i]))\n",
    "    # {} -- is a placeholder in the latter \"format\" call\n",
    "    # {:d} -- this placeholder is for an integer, and also, ':f' for float, \n",
    "    #         ':6d' for an integer of 6 spaces, etc. See the reference above\n",
    "    # {} -- without format identifier a generic placeholder"
   ]
  },
  {
   "cell_type": "code",
   "execution_count": null,
   "metadata": {},
   "outputs": [],
   "source": [
    "# for-loop doesn't need explicit numbering to access list\n",
    "for i in a:\n",
    "    print (i)"
   ]
  },
  {
   "cell_type": "markdown",
   "metadata": {},
   "source": [
    "Elements of a list can themselves be lists! This is particular useful in dealing with data, because we can have a sample as a list of attributes, and a data set as a list of samples (samples are lists themselves). E.g. we have a set of data of 2 attributes, \n",
    "$\\{(u_0, v_0), (u_1, v_1), (u_2, v_2), ...\\}$, we can have a list of 2 for each sample, and a list of many for the dataset. See example below.\n"
   ]
  },
  {
   "cell_type": "code",
   "execution_count": null,
   "metadata": {},
   "outputs": [],
   "source": [
    "\n",
    "a_sample = [0.5, 0.8]\n",
    "another  = [0.1, 1.5]\n",
    "a_data_set = [a_sample, another]\n",
    "\n",
    "print (\"First sample\", a_data_set[0])  # indexing from 0\n",
    "print (\"Second sample\", a_data_set[1])\n",
    "\n",
    "yet_another = [1.4, 2.0]\n",
    "a_data_set.append(yet_another)  # you can expend your dataset.\n",
    "\n",
    "print (\"A data set :\")\n",
    "for sample in a_data_set:\n",
    "    print ('\\t', sample)"
   ]
  },
  {
   "cell_type": "markdown",
   "metadata": {},
   "source": [
    "### zipping\n",
    "We have already seen an intuitive iteration of elements in a list. You can use \"zip\" to take one element per list from mutiple lists.\n"
   ]
  },
  {
   "cell_type": "code",
   "execution_count": null,
   "metadata": {},
   "outputs": [],
   "source": [
    "# [example]"
   ]
  },
  {
   "cell_type": "markdown",
   "metadata": {},
   "source": [
    "## Function\n",
    "We can collect the steps of some complicated operation as a function. The objects of the operation make the _arguments_ of the function, which you can also consider as the flexible _operands_, or the _independent variables_. Note the fixed operands are generally treated as part of the definition of a function, e.g. in \n",
    "$y = 5 x + 3$, $x$ is the argument, and the other constant operands, 5 and 3 are considered as part of the definition. The _dependent_ variable is the return value of a function."
   ]
  },
  {
   "cell_type": "code",
   "execution_count": null,
   "metadata": {},
   "outputs": [],
   "source": [
    "def f(x):\n",
    "    print (\"Running function for {}\".format(x))\n",
    "    y = x**2 + x - 5\n",
    "    return y"
   ]
  },
  {
   "cell_type": "markdown",
   "metadata": {},
   "source": [
    "**NB1**: a mathematical function always returns a certain value, a Python function, on the other hand, can return a **tuple** -- actually allows a function to return more than one value."
   ]
  },
  {
   "cell_type": "code",
   "execution_count": null,
   "metadata": {},
   "outputs": [],
   "source": [
    "# [example]"
   ]
  },
  {
   "cell_type": "markdown",
   "metadata": {},
   "source": [
    "### Duck typing  \n",
    "Python doesn't force a particular type for the arguments at definition time. The type is determined at running time. As long as an argument fulfils all its usage in the function, it is ligitimate. The principle is called duck typing, for the idiom: \"if it walks like a duck, quacks like a duck, it is a duck\"."
   ]
  },
  {
   "cell_type": "code",
   "execution_count": null,
   "metadata": {},
   "outputs": [],
   "source": [
    "f(5)"
   ]
  },
  {
   "cell_type": "code",
   "execution_count": null,
   "metadata": {},
   "outputs": [],
   "source": [
    "import numpy as np\n",
    "f(np.asarray([1,2]))"
   ]
  },
  {
   "cell_type": "markdown",
   "metadata": {},
   "source": [
    "### Variable scope and mutable arguments"
   ]
  },
  {
   "cell_type": "code",
   "execution_count": null,
   "metadata": {},
   "outputs": [],
   "source": [
    "# [add explanation]\n",
    "def f(x):\n",
    "    print (\"x=\", x)\n",
    "    x = x+5\n",
    "    print (\"x=\", x)\n",
    "\n",
    "def g(L):\n",
    "    print (\"L\", L)\n",
    "    L = L + [5,]\n",
    "    print (\"L\", L)\n",
    "    \n",
    "def h(L):\n",
    "    print (\"L\", L)\n",
    "    L[0] = 99\n",
    "    print (\"L\", L)\n",
    "    # When you change an element within a mutable object,\n",
    "    # the change propagates **outside** the function\n",
    "    \n",
    "xx = 6\n",
    "print (\"xx=\", xx)\n",
    "f(xx)\n",
    "print (\"xx=\", xx)\n",
    "\n",
    "LL = [1,2,3]\n",
    "print (\"LL=\", LL)\n",
    "g(LL)\n",
    "print (\"LL=\", LL)\n",
    "h(LL)\n",
    "print (\"LL=\", LL)"
   ]
  },
  {
   "cell_type": "markdown",
   "metadata": {},
   "source": [
    "## Class\n",
    "A template to define a family of objects. An object can have one or more behaviours,  _methods_, implemented as functions. The object can be specified by  _attributes_."
   ]
  },
  {
   "cell_type": "code",
   "execution_count": null,
   "metadata": {},
   "outputs": [],
   "source": [
    "# [example]"
   ]
  },
  {
   "cell_type": "markdown",
   "metadata": {},
   "source": [
    "# Numpy and basic visualisation"
   ]
  },
  {
   "cell_type": "markdown",
   "metadata": {},
   "source": [
    "## Numpy array (numpy.ndarray)\n",
    "A numpy array contains numbers in \n",
    "- vectors: arranging them in a sequence, also called 1D array\n",
    "- matrices: #.rows by #.columns of numbers, with a rectangular organisation, also called 2D array\n",
    "- tensors: a jagon meaning the organisation of the numbers goes to the 3rd, 4-th, or more ways (the 1st and 2nd being rows and columns in matrices, respectively). Rarely in everyday life you need to worrie about them, also called high-dimensional array, n-dimensional array (the data type's namesake, \"ndarray\").\n",
    "Arrays are mostly often used to store i) data and ii) model parameters.\n",
    "\n",
    "NB: In data analytics, people often talking about \"high-dimensional\" data. Don't let the referring to :high"
   ]
  },
  {
   "cell_type": "markdown",
   "metadata": {},
   "source": [
    "**nonzero**\n",
    "[example and introduction]"
   ]
  },
  {
   "cell_type": "markdown",
   "metadata": {},
   "source": [
    "# Data visualisation\n",
    "An excellent package for visualising scientific data is [matplotlib](http://link-to-matplotlib). If you are a Matlab user, the package almost fully reproduce the plotting function provided by Matlab and for free! A wrapper package, pylab, exposes most useful plotting functions and numpy comments to the user (I don't think that is a good idea in production, but in the analytics stage, data visualisation is often informal and dirty tricks and shortcuts are allowed.)\n",
    "\n",
    "In interactive mode of Python (notebook *is interactive*), there is a class of \"magic\" commands, outside the Python language, providing some conveniences. These commands starts with a '%' symbol. One is '%pylab', which is equivalent to \"from pylab import *\", and enables to use the plotting and computation functions *without* the prefix 'pylab.', saving quite a typing.\n",
    "\n",
    "In a notebook, because we are working within a browser, who itself a good drawer. We have an extra option of displaying graphics using system windows (as normal matplotlib displaying) or render the graphics within the browser. The latter way is often neat and serve the purpose of inspection well (if you don't want to zoom the graphics). To enable in-brower rendering, use:"
   ]
  },
  {
   "cell_type": "code",
   "execution_count": null,
   "metadata": {},
   "outputs": [],
   "source": [
    "%pylab inline\n"
   ]
  },
  {
   "cell_type": "markdown",
   "metadata": {},
   "source": [
    "The above command liaises with your local graphic displaying programes (such as system drawing API), and is error / trouble prone. Sometimes it will *warning* you of difficulties in dealing with fonts, or computational demanding tasks. Don't worry and igore them if you get only the \"warning\"'s. The sign of success is a line of message \n",
    "\n",
    "    \"Populating the interactive namespace from numpy and matplotlib\"\n",
    "\n",
    "followed by nothing (this message cell starts immediately below). If you encounter errors, copy the error message, good the message. Likely you are not the first one has the issue, unless you are using a currently rare and old computer system, e.g. Windows 95. Solutions should be present somewhere -- the best place would be stackoverflow, e.g. a [QA example](https://-to-example) about matplotlib / pylab. \n",
    "\n",
    "If issue persists, seek help during lab tutorials.\n",
    "\n",
    "\n",
    "Note though convenient, the indiscriminative import can contaminate your namespace, so not good for large project, only for experimental data visualisation. Actually, I'd prefer the following commands\n",
    "```\n",
    "import matplotlib.pyplot as plt\n",
    "%matplotlib inline\n",
    "```\n",
    "Then you perform all plot command using `plt.xxxx`. "
   ]
  },
  {
   "cell_type": "markdown",
   "metadata": {},
   "source": [
    "When the data source is readily prepared, drawing pretty graphics using Python is no more difficult than doing so in GUI environment (Excel, Numbers, KNIME, etc.) and providing much greater control of the details. We would see a few examples. For a comprehensive reference, see [matplotlib-ref](https://matplotlib-reference).\n",
    "\n",
    "Plotting is often done by a (well named) command, \"plot\".  You can plot a series of numbers. By default, the numbers will be placed at different heights, and spaced by 1.0 horizontally, just like expected in most cases. "
   ]
  },
  {
   "cell_type": "code",
   "execution_count": null,
   "metadata": {},
   "outputs": [],
   "source": [
    "plot([1, 2, 3]) "
   ]
  },
  {
   "cell_type": "markdown",
   "metadata": {},
   "source": [
    "**NB1** this \"plot\" was brought to our universe by the magic %pylab (inline or not). In \"normal\" programming, you can explicitly refer to the package and method names:\n",
    "\n",
    "    import matplotlib.pyplot as plt\n",
    "    plt.plot\n",
    "    plt.????\n",
    "\n",
    "**NB2** in the above example, we provided a **single** argument to plot, and that argument is a **series** of numbers. Plot can draw any iterable collection of numbers, see **duck typing** in Python basics above."
   ]
  },
  {
   "cell_type": "code",
   "execution_count": null,
   "metadata": {},
   "outputs": [],
   "source": [
    "# duck typing allows any \"list-like\" data to be plotted.\n",
    "x=np.arange(10)\n",
    "y=x**2\n",
    "plot(y)"
   ]
  },
  {
   "cell_type": "markdown",
   "metadata": {},
   "source": [
    "Range of x-axis and y-axis and their aspect-ratio (and many other attributes) are automatically determined. Check"
   ]
  },
  {
   "cell_type": "code",
   "execution_count": null,
   "metadata": {},
   "outputs": [],
   "source": [
    "plot([1, 2, 3])"
   ]
  },
  {
   "cell_type": "code",
   "execution_count": null,
   "metadata": {},
   "outputs": [],
   "source": [
    "plot([4, 5, 6])"
   ]
  },
  {
   "cell_type": "code",
   "execution_count": null,
   "metadata": {},
   "outputs": [],
   "source": [
    "plot([2, 4, 6])"
   ]
  },
  {
   "cell_type": "markdown",
   "metadata": {},
   "source": [
    "If it surprised you by lacking of any apparent difference (look carefully at the axis-ticks), try do them together."
   ]
  },
  {
   "cell_type": "code",
   "execution_count": null,
   "metadata": {},
   "outputs": [],
   "source": [
    "plot([1, 2, 3], 'b+-')\n",
    "plot([4, 5, 6], 'go:')\n",
    "plot([2, 4, 6], 'r.--')  # Guess the meaning of the line specifiers: \n",
    "# group1: r/g/b\n",
    "# group2: +/o/.\n",
    "# group3: -/:/--\n",
    "# playing with them yourself."
   ]
  }
 ],
 "metadata": {
  "anaconda-cloud": {},
  "kernelspec": {
   "display_name": "Python 3",
   "language": "python",
   "name": "python3"
  },
  "language_info": {
   "codemirror_mode": {
    "name": "ipython",
    "version": 3
   },
   "file_extension": ".py",
   "mimetype": "text/x-python",
   "name": "python",
   "nbconvert_exporter": "python",
   "pygments_lexer": "ipython3",
   "version": "3.5.4"
  }
 },
 "nbformat": 4,
 "nbformat_minor": 1
}
